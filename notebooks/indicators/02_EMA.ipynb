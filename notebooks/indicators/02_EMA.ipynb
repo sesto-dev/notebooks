{
  "cells": [
    {
      "cell_type": "code",
      "execution_count": 1,
      "metadata": {},
      "outputs": [
        {
          "name": "stdout",
          "output_type": "stream",
          "text": [
            "MetaTrader 5 initialized successfully.\n"
          ]
        }
      ],
      "source": [
        "import sys\n",
        "sys.path.append(\"../..\")\n",
        "\n",
        "import numpy as np\n",
        "import pandas as pd\n",
        "import pandas_ta as ta\n",
        "import MetaTrader5 as mt5\n",
        "import plotly.express as px\n",
        "import plotly.graph_objects as go\n",
        "from plotly.subplots import make_subplots\n",
        "\n",
        "from sesto.indicators import SMA, BB, RSI\n",
        "from sesto.metatrader.constants import CURRENCY_PAIRS\n",
        "import sesto.metatrader.data as mtd\n",
        "from sesto.plot import plot_plotly\n",
        "\n"
      ]
    },
    {
      "cell_type": "code",
      "execution_count": 2,
      "metadata": {},
      "outputs": [],
      "source": [
        "PAIRS = CURRENCY_PAIRS\n",
        "TIMEFRAME = mt5.TIMEFRAME_H1\n",
        "BARS = 500\n",
        "EMA_PERIOD = 14\n",
        "RSI_OVERSOLD = 20\n",
        "RSI_OVERBOUGHT = 80"
      ]
    },
    {
      "cell_type": "code",
      "execution_count": 3,
      "metadata": {},
      "outputs": [
        {
          "name": "stdout",
          "output_type": "stream",
          "text": [
            "Exception fetching data for USDJPY on 16385: 'int' object has no attribute 'value'\n",
            "No data fetched for pair: USDJPY on timeframe: 16385\n"
          ]
        },
        {
          "ename": "KeyError",
          "evalue": "16385",
          "output_type": "error",
          "traceback": [
            "\u001b[1;31m---------------------------------------------------------------------------\u001b[0m",
            "\u001b[1;31mKeyError\u001b[0m                                  Traceback (most recent call last)",
            "Cell \u001b[1;32mIn[3], line 1\u001b[0m\n\u001b[1;32m----> 1\u001b[0m \u001b[43mmtd\u001b[49m\u001b[38;5;241;43m.\u001b[39;49m\u001b[43mfill_data_pos\u001b[49m\u001b[43m(\u001b[49m\u001b[43mPAIRS\u001b[49m\u001b[43m,\u001b[49m\u001b[43m \u001b[49m\u001b[43mTIMEFRAME\u001b[49m\u001b[43m,\u001b[49m\u001b[43m \u001b[49m\u001b[43mBARS\u001b[49m\u001b[43m)\u001b[49m\n",
            "File \u001b[1;32mc:\\Users\\Sesto\\Documents\\Projects\\sesto\\notebooks\\notebooks\\indicators\\../..\\sesto\\metatrader\\data.py:55\u001b[0m, in \u001b[0;36mfill_data_pos\u001b[1;34m(pairs, timeframe, bars)\u001b[0m\n\u001b[0;32m     53\u001b[0m \u001b[38;5;28;01melse\u001b[39;00m:\n\u001b[0;32m     54\u001b[0m     \u001b[38;5;28mprint\u001b[39m(\u001b[38;5;124mf\u001b[39m\u001b[38;5;124m\"\u001b[39m\u001b[38;5;124mFetched data for pair: \u001b[39m\u001b[38;5;132;01m{\u001b[39;00mpair\u001b[38;5;132;01m}\u001b[39;00m\u001b[38;5;124m on timeframe: \u001b[39m\u001b[38;5;132;01m{\u001b[39;00mtimeframe\u001b[38;5;132;01m}\u001b[39;00m\u001b[38;5;124m\"\u001b[39m)\n\u001b[1;32m---> 55\u001b[0m \u001b[43mdata\u001b[49m\u001b[43m[\u001b[49m\u001b[43mtimeframe\u001b[49m\u001b[43m]\u001b[49m[pair] \u001b[38;5;241m=\u001b[39m symbol_data\n",
            "\u001b[1;31mKeyError\u001b[0m: 16385"
          ]
        }
      ],
      "source": [
        "mtd.fill_data_pos(PAIRS, TIMEFRAME, BARS)"
      ]
    },
    {
      "cell_type": "code",
      "execution_count": null,
      "metadata": {},
      "outputs": [],
      "source": [
        "for symbol, df in mtd.data.items():\n",
        "    df['ema'] = df['close'].ewm(span=EMA_PERIOD, adjust=False).mean()\n",
        "    plot_plotly(df, symbol, ['close', 'ema'])"
      ]
    }
  ],
  "metadata": {
    "kernelspec": {
      "display_name": "Python 3",
      "language": "python",
      "name": "python3"
    },
    "language_info": {
      "codemirror_mode": {
        "name": "ipython",
        "version": 3
      },
      "file_extension": ".py",
      "mimetype": "text/x-python",
      "name": "python",
      "nbconvert_exporter": "python",
      "pygments_lexer": "ipython3",
      "version": "3.8.10"
    }
  },
  "nbformat": 4,
  "nbformat_minor": 2
}
