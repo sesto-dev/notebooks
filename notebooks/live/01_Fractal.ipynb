{
 "cells": [
  {
   "cell_type": "code",
   "execution_count": 1,
   "metadata": {},
   "outputs": [
    {
     "name": "stdout",
     "output_type": "stream",
     "text": [
      "MetaTrader5 initialized successfully\n",
      "MetaTrader 5 initialized successfully.\n"
     ]
    }
   ],
   "source": [
    "import sys\n",
    "sys.path.append(\"../..\")\n",
    "\n",
    "import time\n",
    "from time import sleep\n",
    "from datetime import datetime, timedelta\n",
    "import threading\n",
    "\n",
    "import MetaTrader5 as mt5\n",
    "import pandas as pd\n",
    "from IPython.display import display\n",
    "from lightweight_charts import JupyterChart\n",
    "from IPython.display import clear_output, display\n",
    "\n",
    "from sesto.fractal import high_low_finder\n",
    "from sesto.utils import get_price_at_pnl, calculate_fee, calculate_position_size, get_pnl_at_price, convert_lots_to_usd\n",
    "from sesto.metatrader.business import get_positions, send_market_order, modify_sl_tp, get_order_from_ticket, get_deal_from_ticket\n",
    "from sesto.metatrader.data import fetch_data_pos\n",
    "from sesto.constants import CRYPTOCURRENCIES, CURRENCY_PAIRS, MT5Timeframe\n",
    "from sesto.telegram import TelegramSender"
   ]
  },
  {
   "cell_type": "code",
   "execution_count": 2,
   "metadata": {},
   "outputs": [],
   "source": [
    "Telegram = TelegramSender()"
   ]
  },
  {
   "cell_type": "code",
   "execution_count": 3,
   "metadata": {},
   "outputs": [],
   "source": [
    "# PAIRS = ['NZDJPY', 'AUDJPY', 'CADJPY', 'USDJPY']\n",
    "PAIRS = CRYPTOCURRENCIES + CURRENCY_PAIRS\n",
    "MAIN_TIMEFRAME = MT5Timeframe.M15\n",
    "\n",
    "TP_PNL_MULTIPLIER = 0.5\n",
    "SL_PNL_MULTIPLIER = -0.25\n",
    "LEVERAGE = 500\n",
    "DEVIATION = 20\n",
    "VOLUME = 0.1\n",
    "\n",
    "TRAILING_STOP_STEPS = [\n",
    "    {'trigger_pnl_multiplier': 4.00, 'new_sl_pnl_multiplier': 3.50},\n",
    "    {'trigger_pnl_multiplier': 3.50, 'new_sl_pnl_multiplier': 3.00},\n",
    "    {'trigger_pnl_multiplier': 3.00, 'new_sl_pnl_multiplier': 2.75},\n",
    "    {'trigger_pnl_multiplier': 2.75, 'new_sl_pnl_multiplier': 2.50},\n",
    "    {'trigger_pnl_multiplier': 2.50, 'new_sl_pnl_multiplier': 2.25},\n",
    "    {'trigger_pnl_multiplier': 2.25, 'new_sl_pnl_multiplier': 2.00},\n",
    "    {'trigger_pnl_multiplier': 2.00, 'new_sl_pnl_multiplier': 1.75},\n",
    "    {'trigger_pnl_multiplier': 1.75, 'new_sl_pnl_multiplier': 1.50},\n",
    "    {'trigger_pnl_multiplier': 1.50, 'new_sl_pnl_multiplier': 1.25},\n",
    "    {'trigger_pnl_multiplier': 1.25, 'new_sl_pnl_multiplier': 1.00},\n",
    "    {'trigger_pnl_multiplier': 1.00, 'new_sl_pnl_multiplier': 0.75},\n",
    "    {'trigger_pnl_multiplier': 0.75, 'new_sl_pnl_multiplier': 0.45},\n",
    "    {'trigger_pnl_multiplier': 0.50, 'new_sl_pnl_multiplier': 0.22},\n",
    "    {'trigger_pnl_multiplier': 0.25, 'new_sl_pnl_multiplier': 0.12},\n",
    "    {'trigger_pnl_multiplier': 0.12, 'new_sl_pnl_multiplier': 0.05},\n",
    "    {'trigger_pnl_multiplier': 0.06, 'new_sl_pnl_multiplier': 0.025},\n",
    "]"
   ]
  },
  {
   "cell_type": "code",
   "execution_count": 4,
   "metadata": {},
   "outputs": [],
   "source": [
    "def calculate_trade_capital(symbol, volume_lots, leverage, price_open):\n",
    "    position_size_usd = convert_lots_to_usd(symbol, volume_lots, price_open)\n",
    "    capital_used = position_size_usd / leverage\n",
    "    return capital_used"
   ]
  },
  {
   "cell_type": "code",
   "execution_count": 5,
   "metadata": {},
   "outputs": [],
   "source": [
    "def have_open_positions_in_symbol(symbol):\n",
    "    positions = get_positions()\n",
    "    return symbol in positions['symbol'].values"
   ]
  },
  {
   "cell_type": "code",
   "execution_count": 6,
   "metadata": {},
   "outputs": [],
   "source": [
    "# dict to store trades, keys are position tickets, values are the entire position object\n",
    "trades = {}"
   ]
  },
  {
   "cell_type": "code",
   "execution_count": 7,
   "metadata": {},
   "outputs": [],
   "source": [
    "# Utility Functions\n",
    "def calculate_trade_capital(symbol, volume_lots, leverage, price_open):\n",
    "    position_size_usd = convert_lots_to_usd(symbol, volume_lots, price_open)\n",
    "    capital_used = position_size_usd / leverage\n",
    "    return capital_used\n",
    "\n",
    "def have_open_positions_in_symbol(symbol):\n",
    "    positions = get_positions()\n",
    "    return symbol in positions['symbol'].values\n",
    "\n",
    "# Trading Logic Functions\n",
    "def check_fractal_signals():\n",
    "    while True:\n",
    "        for pair in PAIRS:\n",
    "            if have_open_positions_in_symbol(pair):\n",
    "                continue\n",
    "\n",
    "            df = fetch_data_pos(pair, MAIN_TIMEFRAME, 50)\n",
    "            df['fractal'] = high_low_finder(df)\n",
    "            df['symbol'] = pair\n",
    "            # display(df.tail())\n",
    "\n",
    "            price = mt5.symbol_info_tick(pair).ask\n",
    "            new_trade_capital = calculate_trade_capital(pair, VOLUME, LEVERAGE, price)\n",
    "            trade_size = calculate_position_size(new_trade_capital, LEVERAGE)\n",
    "            fee = calculate_fee(position_size_usd=trade_size) \n",
    "\n",
    "            last_row = df.iloc[-2]\n",
    "            current_time = datetime.now().replace(microsecond=0)\n",
    "\n",
    "\n",
    "            if last_row['fractal'] == 'top' or last_row['fractal'] == 'bottom':\n",
    "                sl = get_price_at_pnl(pnl_multiplier=SL_PNL_MULTIPLIER, order_fee=fee, position_size_usd=trade_size, leverage=LEVERAGE, entry_price=price, type='long' if last_row['fractal'] == 'top' else 'short')\n",
    "                order = send_market_order(symbol=pair, volume=VOLUME, order_type='sell', sl=sl, deviation=DEVIATION)\n",
    "                if order is not None:\n",
    "                    trade_info = {\n",
    "                        'event': 'trade_opened',\n",
    "                        'entry_condition': f\"{last_row['fractal'].upper()} FRACTAL DETECTED\",\n",
    "                        'type': 'long' if last_row['fractal'] == 'top' else 'short',\n",
    "                        'row_close': f\"${last_row['close']:.5f}\",\n",
    "                        'last_tick_price': f\"${price:.5f}\",\n",
    "                        'entry_price': f\"${order.price:.5f}\",\n",
    "                        'sl': f\"${sl:.5f}\",\n",
    "                        'pnl_at_sl': f\"${get_pnl_at_price(sl, price, trade_size, LEVERAGE, 'long' if last_row['fractal'] == 'top' else 'short'):.5f}\",\n",
    "                        'symbol': pair,\n",
    "                        'volume': VOLUME,\n",
    "                        'time': current_time.isoformat()  # Convert datetime to ISO format string\n",
    "                    }\n",
    "                    Telegram.send_json_message(trade_info)\n",
    "                    display(order)\n",
    "                else:\n",
    "                    message = f\"{current_time} - {pair} - FAILED TO OPEN POSITION\"\n",
    "                    print(message)\n",
    "                    Telegram.send_message(message)\n",
    "                \n",
    "\n",
    "        # Wait until the next 15-minute interval\n",
    "        now = current_time\n",
    "        next_run = (now.replace(second=0, microsecond=0) + pd.Timedelta(minutes=15 - now.minute % 15)).replace(second=0, microsecond=0)\n",
    "        next_run += pd.Timedelta(seconds=2)  # Add 2 seconds\n",
    "\n",
    "        sleep_time = (next_run - now).total_seconds()\n",
    "        print(f\"{now} - Waiting for {sleep_time} seconds until next 15-minute check.\")\n",
    "        sleep(sleep_time)\n",
    "\n",
    "def monitor_open_trades():\n",
    "    while True:\n",
    "        current_time = datetime.now().replace(microsecond=0)\n",
    "\n",
    "        positions = get_positions()\n",
    "        positions['time'] = pd.to_datetime(positions['time'], unit='s')\n",
    "        positions['time_update'] = pd.to_datetime(positions['time_update'], unit='s')\n",
    "\n",
    "        # Create a list to store tickets of closed trades\n",
    "        closed_trades = []\n",
    "\n",
    "        for index, position in positions.iterrows():\n",
    "            # Check if the position ticket exists in trades dict\n",
    "            if position.ticket not in trades:\n",
    "                trades[position.ticket] = position\n",
    "            else:\n",
    "                # Check if position has changed\n",
    "                if not trades[position.ticket].equals(position):\n",
    "                    trades[position.ticket] = position\n",
    "            \n",
    "            \n",
    "            # Calculate the actual capital used for this trade\n",
    "            trade_capital = calculate_trade_capital(position.symbol, position.volume, LEVERAGE, position.price_open)\n",
    "            trade_size = calculate_position_size(trade_capital, LEVERAGE)\n",
    "            fee = calculate_fee(position_size_usd=trade_size) \n",
    "            current_pnl_percentage = (position.profit / trade_capital) * 100\n",
    "            current_sl_pnl = get_pnl_at_price(position.sl, position.price_open, trade_size, LEVERAGE, 'long' if position.type == 0 else 'short')\n",
    "\n",
    "            for trailing_step in TRAILING_STOP_STEPS:\n",
    "                trigger_pnl_multiplier = trailing_step['trigger_pnl_multiplier']\n",
    "                new_sl_pnl_multiplier = trailing_step['new_sl_pnl_multiplier']\n",
    "\n",
    "                trigger_price = get_price_at_pnl(\n",
    "                    pnl_multiplier=trigger_pnl_multiplier,\n",
    "                    order_fee=fee,\n",
    "                    position_size_usd=trade_size,\n",
    "                    leverage=LEVERAGE,\n",
    "                    entry_price=position.price_open,\n",
    "                    type='long' if position.type == 0 else 'short'\n",
    "                )\n",
    "                new_sl = get_price_at_pnl(\n",
    "                    pnl_multiplier=new_sl_pnl_multiplier,\n",
    "                    order_fee=fee,\n",
    "                    position_size_usd=trade_size,\n",
    "                    leverage=LEVERAGE,\n",
    "                    entry_price=position.price_open,\n",
    "                    type='long' if position.type == 0 else 'short'\n",
    "                )\n",
    "\n",
    "                trigger_pnl = get_pnl_at_price(\n",
    "                    trigger_price,\n",
    "                    position.price_open,\n",
    "                    trade_size,\n",
    "                    LEVERAGE,\n",
    "                    'long' if position.type == 0 else 'short'\n",
    "                )\n",
    "\n",
    "                pnl_at_new_sl = get_pnl_at_price(\n",
    "                    new_sl,\n",
    "                    position.price_open,\n",
    "                    trade_size,\n",
    "                    LEVERAGE,\n",
    "                    'long' if position.type == 0 else 'short'\n",
    "                )\n",
    "\n",
    "                if position.profit >= trigger_pnl:                   \n",
    "                    if (position.type == 0 and new_sl > position.sl) or (position.type == 1 and new_sl < position.sl):\n",
    "                        # create a dict with all data regarding old and new sl\n",
    "                        sl_info = {\n",
    "                            'event': 'trailing_stop_triggered',\n",
    "                            'position_data': {\n",
    "                                'symbol': position.symbol,\n",
    "                                'trade_open_date': position.time.isoformat(),\n",
    "                                'type': 'long' if position.type == 0 else 'short',\n",
    "                                'entry_price': f\"${position.price_open:.5f}\",\n",
    "                                'current_price': f\"${position.price_current:.5f}\",\n",
    "                                'capital_used': f\"${trade_capital:.5f}\",\n",
    "                                'trade_size': f\"${trade_size:.5f}\",\n",
    "                                'fee': f\"${fee:.5f}\",\n",
    "                            },\n",
    "                            'trigger_data': {\n",
    "                                'trigger_price': f\"${trigger_price:.5f}\",\n",
    "                                'trigger_pnl': f\"${trigger_pnl:.5f}\",\n",
    "                                'trigger_pnl_percentage': f\"{(trigger_pnl / trade_capital) * 100:.5f}%\",\n",
    "                            },\n",
    "                            'current_pnl': {\n",
    "                                'current_pnl': f\"${position.profit:.5f}\",\n",
    "                                'current_pnl_percentage': f\"{current_pnl_percentage:.5f}%\",\n",
    "                            },\n",
    "                            'old_sl': {\n",
    "                                'old_sl': f\"${position.sl:.5f}\",\n",
    "                                'pnl_at_old_sl': f\"${current_sl_pnl:.5f}\",\n",
    "                                'old_sl_pnl_percentage': f\"{(current_sl_pnl / trade_capital) * 100:.5f}%\",\n",
    "                            },\n",
    "                            'new_sl': {\n",
    "                                'new_sl': f\"${new_sl:.5f}\",\n",
    "                                'pnl_at_new_sl': f\"${pnl_at_new_sl:.5f}\",\n",
    "                                'new_sl_pnl_percentage': f\"{(pnl_at_new_sl / trade_capital) * 100:.5f}%\",\n",
    "                            }\n",
    "                        }\n",
    "\n",
    "                        modify_request = modify_sl_tp(position.ticket, new_sl, position.tp)\n",
    "                        if modify_request is not None:\n",
    "                            Telegram.send_json_message(sl_info)\n",
    "                        break\n",
    "               \n",
    "\n",
    "        # Loop through our trades to see if they are not present in position meaning they have been closed\n",
    "        for trade_ticket, trade in trades.items():\n",
    "            if trade_ticket not in positions['ticket'].values:\n",
    "                message = f'{datetime.now()} - {trade.symbol} - POSITION CLOSED - TICKET: {trade_ticket} - PNL: ${trade.profit:.3f}'\n",
    "                print(message)\n",
    "                Telegram.send_message(message)\n",
    "\n",
    "                sleep(1)\n",
    "\n",
    "                # Create a dict with all data regarding the closed trade\n",
    "                closed_order = get_order_from_ticket(trade_ticket)\n",
    "                if closed_order is not None:\n",
    "                    closed_order['event'] = 'trade_closed_order'\n",
    "                    Telegram.send_json_message(closed_order)\n",
    "\n",
    "                closed_deal = get_deal_from_ticket(trade_ticket, datetime.now() - timedelta(days=1), datetime.now())\n",
    "                if closed_deal is not None:\n",
    "                    closed_deal['event'] = 'trade_closed_deal'\n",
    "                    Telegram.send_json_message(closed_deal)\n",
    "\n",
    "                closed_trades.append(trade_ticket)\n",
    "\n",
    "        # Remove closed trades outside the loop\n",
    "        for ticket in closed_trades:\n",
    "            del trades[ticket]\n",
    "\n",
    "        sleep(10)"
   ]
  },
  {
   "cell_type": "code",
   "execution_count": 8,
   "metadata": {},
   "outputs": [
    {
     "name": "stdout",
     "output_type": "stream",
     "text": [
      "Order successfully placed for BITCOIN\n"
     ]
    },
    {
     "data": {
      "text/plain": [
       "OrderSendResult(retcode=10009, deal=193631941, order=228941380, volume=0.1, price=62285.6, bid=0.0, ask=0.0, comment='Request executed', request_id=813637775, retcode_external=0, request=TradeRequest(action=1, magic=0, order=0, symbol='BITCOIN', volume=0.1, price=62285.6, stoplimit=0.0, sl=62316.7388137216, tp=0.0, deviation=20, type=1, type_filling=0, type_time=0, expiration=0, comment='', position=0, position_by=0))"
      ]
     },
     "metadata": {},
     "output_type": "display_data"
    },
    {
     "name": "stdout",
     "output_type": "stream",
     "text": [
      "Order successfully placed for DOGECOIN\n"
     ]
    },
    {
     "data": {
      "text/plain": [
       "OrderSendResult(retcode=10009, deal=193631943, order=228941382, volume=0.1, price=0.10925, bid=0.0, ask=0.0, comment='Request executed', request_id=813637776, retcode_external=0, request=TradeRequest(action=1, magic=0, order=0, symbol='DOGECOIN', volume=0.1, price=0.10925, stoplimit=0.0, sl=0.10992492796832, tp=0.0, deviation=20, type=1, type_filling=0, type_time=0, expiration=0, comment='', position=0, position_by=0))"
      ]
     },
     "metadata": {},
     "output_type": "display_data"
    },
    {
     "name": "stdout",
     "output_type": "stream",
     "text": [
      "Order failed, retcode: 10016\n",
      "2024-10-05 01:35:52 - RIPPLE - FAILED TO OPEN POSITION\n",
      "Order successfully placed for UNISWAP\n"
     ]
    },
    {
     "data": {
      "text/plain": [
       "OrderSendResult(retcode=10009, deal=193631944, order=228941383, volume=0.1, price=6.727, bid=0.0, ask=0.0, comment='Request executed', request_id=813637777, retcode_external=0, request=TradeRequest(action=1, magic=0, order=0, symbol='UNISWAP', volume=0.1, price=6.727, stoplimit=0.0, sl=6.741368568767999, tp=0.0, deviation=20, type=1, type_filling=0, type_time=0, expiration=0, comment='', position=0, position_by=0))"
      ]
     },
     "metadata": {},
     "output_type": "display_data"
    },
    {
     "name": "stdout",
     "output_type": "stream",
     "text": [
      "Order successfully placed for CHAINLINK\n"
     ]
    },
    {
     "data": {
      "text/plain": [
       "OrderSendResult(retcode=10009, deal=193631945, order=228941384, volume=0.1, price=11.08, bid=0.0, ask=0.0, comment='Request executed', request_id=813637778, retcode_external=0, request=TradeRequest(action=1, magic=0, order=0, symbol='CHAINLINK', volume=0.1, price=11.08, stoplimit=0.0, sl=11.105549289599999, tp=0.0, deviation=20, type=1, type_filling=0, type_time=0, expiration=0, comment='', position=0, position_by=0))"
      ]
     },
     "metadata": {},
     "output_type": "display_data"
    },
    {
     "name": "stdout",
     "output_type": "stream",
     "text": [
      "Order failed, retcode: 10019\n",
      "2024-10-05 01:35:56 - COSMOS - FAILED TO OPEN POSITION\n",
      "Order failed, retcode: 10018\n",
      "2024-10-05 01:35:57 - EURCAD - FAILED TO OPEN POSITION\n",
      "2024-10-05 01:35:59 - Waiting for 543.0 seconds until next 15-minute check.\n",
      "SL/TP modified for ticket 228941380 successfully.\n",
      "Failed to modify SL/TP for ticket 228941380: No changes\n",
      "SL/TP modified for ticket 228941380 successfully.\n",
      "Failed to modify SL/TP for ticket 228941380: No changes\n",
      "SL/TP modified for ticket 228941383 successfully.\n",
      "Failed to modify SL/TP for ticket 228941380: No changes\n",
      "2024-10-05 01:37:01.000780 - UNISWAP - POSITION CLOSED - TICKET: 228941383 - PNL: $0.100\n",
      "No deal history found for ticket 228941383\n",
      "Failed to modify SL/TP for ticket 228941380: No changes\n",
      "Failed to modify SL/TP for ticket 228941380: No changes\n",
      "Failed to modify SL/TP for ticket 228941380: No changes\n",
      "Program terminated by user.\n"
     ]
    },
    {
     "name": "stdout",
     "output_type": "stream",
     "text": [
      "Failed to modify SL/TP for ticket 228941380: No changes\n",
      "Failed to modify SL/TP for ticket 228941380: No changes\n",
      "Failed to modify SL/TP for ticket 228941380: No changes\n",
      "Failed to modify SL/TP for ticket 228941380: No changes\n",
      "Failed to modify SL/TP for ticket 228941380: No changes\n",
      "Failed to modify SL/TP for ticket 228941380: No changes\n",
      "2024-10-05 01:39:03.600858 - BITCOIN - POSITION CLOSED - TICKET: 228941380 - PNL: $3.910\n",
      "No deal history found for ticket 228941380\n",
      "2024-10-05 01:41:25.919594 - DOGECOIN - POSITION CLOSED - TICKET: 228941382 - PNL: $-6.600\n",
      "No deal history found for ticket 228941382\n",
      "Order failed, retcode: 10016\n",
      "2024-10-05 01:45:02 - RIPPLE - FAILED TO OPEN POSITION\n",
      "Order failed, retcode: 10018\n",
      "2024-10-05 01:45:06 - EURCAD - FAILED TO OPEN POSITION\n",
      "2024-10-05 01:45:07 - Waiting for 895.0 seconds until next 15-minute check.\n"
     ]
    }
   ],
   "source": [
    "# Starting Threads\n",
    "if __name__ == \"__main__\":\n",
    "    fractal_thread = threading.Thread(target=check_fractal_signals, daemon=True)\n",
    "    monitor_thread = threading.Thread(target=monitor_open_trades, daemon=True)\n",
    "\n",
    "    fractal_thread.start()\n",
    "    monitor_thread.start()\n",
    "\n",
    "    try:\n",
    "        while True:\n",
    "            sleep(1)\n",
    "    except KeyboardInterrupt:\n",
    "        print(\"Program terminated by user.\")"
   ]
  }
 ],
 "metadata": {
  "kernelspec": {
   "display_name": "venv",
   "language": "python",
   "name": "python3"
  },
  "language_info": {
   "codemirror_mode": {
    "name": "ipython",
    "version": 3
   },
   "file_extension": ".py",
   "mimetype": "text/x-python",
   "name": "python",
   "nbconvert_exporter": "python",
   "pygments_lexer": "ipython3",
   "version": "3.8.10"
  }
 },
 "nbformat": 4,
 "nbformat_minor": 2
}
