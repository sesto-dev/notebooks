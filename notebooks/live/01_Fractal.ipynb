{
 "cells": [
  {
   "cell_type": "code",
   "execution_count": 1,
   "metadata": {},
   "outputs": [
    {
     "name": "stdout",
     "output_type": "stream",
     "text": [
      "MetaTrader5 initialized successfully\n",
      "MetaTrader 5 initialized successfully.\n"
     ]
    }
   ],
   "source": [
    "import sys\n",
    "sys.path.append(\"../..\")\n",
    "\n",
    "import time\n",
    "from time import sleep\n",
    "from datetime import datetime\n",
    "\n",
    "# Import necessary libraries\n",
    "import MetaTrader5 as mt5\n",
    "import pandas as pd\n",
    "from IPython.display import display\n",
    "from lightweight_charts import JupyterChart\n",
    "from IPython.display import clear_output, display\n",
    "\n",
    "from sesto.fractal import high_low_finder\n",
    "from sesto.utils import get_price_at_pnl, calculate_fee, calculate_position_size, get_pnl_at_price\n",
    "from sesto.metatrader.business import get_positions, send_market_order, modify_sl_tp\n",
    "from sesto.metatrader.data import fetch_data_pos\n",
    "from sesto.constants import MT5Timeframe"
   ]
  },
  {
   "cell_type": "code",
   "execution_count": 2,
   "metadata": {},
   "outputs": [],
   "source": [
    "# PAIRS = ['NZDJPY', 'AUDJPY', 'CADJPY', 'USDJPY']\n",
    "PAIRS = ['BITCOIN', 'ETHEREUM', 'SOLANA']\n",
    "MAIN_TIMEFRAME = MT5Timeframe.M15\n",
    "\n",
    "TP_PNL_MULTIPLIER = 0.5\n",
    "SL_PNL_MULTIPLIER = -0.25\n",
    "CAPITAL_PER_TRADE = 200  # $200 per trade\n",
    "LEVERAGE = 500\n",
    "DEVIATION = 20\n",
    "\n",
    "TRAILING_STOP_STEPS = [\n",
    "    {'trigger_tp_multiplier': 0.50, 'new_sl_pnl_multiplier': 0.15},\n",
    "    {'trigger_tp_multiplier': 0.25, 'new_sl_pnl_multiplier': 0.05},\n",
    "    {'trigger_tp_multiplier': 0.10, 'new_sl_pnl_multiplier': 0.01},\n",
    "]"
   ]
  },
  {
   "cell_type": "code",
   "execution_count": 6,
   "metadata": {},
   "outputs": [
    {
     "name": "stdout",
     "output_type": "stream",
     "text": [
      "Order successfully placed: OrderSendResult(retcode=10009, deal=192815026, order=228083148, volume=0.1, price=63831.97, bid=0.0, ask=0.0, comment='Request executed', request_id=1092877708, retcode_external=0, request=TradeRequest(action=1, magic=0, order=0, symbol='BITCOIN', volume=0.1, price=63831.97, stoplimit=0.0, sl=63841.97, tp=63821.97, deviation=20, type=1, type_filling=0, type_time=0, expiration=0, comment='', position=0, position_by=0))\n"
     ]
    },
    {
     "data": {
      "text/plain": [
       "OrderSendResult(retcode=10009, deal=192815026, order=228083148, volume=0.1, price=63831.97, bid=0.0, ask=0.0, comment='Request executed', request_id=1092877708, retcode_external=0, request=TradeRequest(action=1, magic=0, order=0, symbol='BITCOIN', volume=0.1, price=63831.97, stoplimit=0.0, sl=63841.97, tp=63821.97, deviation=20, type=1, type_filling=0, type_time=0, expiration=0, comment='', position=0, position_by=0))"
      ]
     },
     "execution_count": 6,
     "metadata": {},
     "output_type": "execute_result"
    }
   ],
   "source": [
    "point = mt5.symbol_info('BITCOIN').point\n",
    "price = mt5.symbol_info_tick('BITCOIN').ask\n",
    "order = send_market_order('BITCOIN', 0.1, 'sell', price + 1000 * point, price - 2000 * point, DEVIATION)\n",
    "order"
   ]
  },
  {
   "cell_type": "code",
   "execution_count": 4,
   "metadata": {},
   "outputs": [],
   "source": [
    "# size_usd = calculate_position_size(capital=CAPITAL_PER_TRADE, leverage=LEVERAGE)\n",
    "# fee = calculate_fee(position_size_usd=size_usd) \n",
    "\n",
    "# while True:\n",
    "#     clear_output(wait=True)\n",
    "\n",
    "#     for pair in PAIRS:\n",
    "#         df = fetch_data_pos(pair, MAIN_TIMEFRAME, 5)\n",
    "#         df['fractal'] = high_low_finder(df)\n",
    "#         df['symbol'] = pair\n",
    "#         display(df.tail())\n",
    "\n",
    "#         last_row = df.iloc[-1]\n",
    "\n",
    "#         if df['fractal'].iloc[-1] == 'top':\n",
    "#             sl = get_price_at_pnl(pnl_multiplier=SL_PNL_MULTIPLIER, order_fee=fee, position_size_usd=size_usd, leverage=LEVERAGE, entry_price=last_row['close'], type='short')\n",
    "#             tp = get_price_at_pnl(pnl_multiplier=TP_PNL_MULTIPLIER, order_fee=fee, position_size_usd=size_usd, leverage=LEVERAGE, entry_price=last_row['close'], type='short')\n",
    "#             order = send_market_order(pair, 1, 'sell', sl, tp, DEVIATION)\n",
    "#             display(order)\n",
    "#         elif df['fractal'].iloc[-1] == 'bottom':\n",
    "#             sl = get_price_at_pnl(pnl_multiplier=SL_PNL_MULTIPLIER, order_fee=fee, position_size_usd=size_usd, leverage=LEVERAGE, entry_price=last_row['close'], type='long')\n",
    "#             tp = get_price_at_pnl(pnl_multiplier=TP_PNL_MULTIPLIER, order_fee=fee, position_size_usd=size_usd, leverage=LEVERAGE, entry_price=last_row['close'], type='long')\n",
    "#             order = send_market_order(pair, 1, 'buy', sl, tp, DEVIATION)\n",
    "#             display(order)\n",
    "\n",
    "#     positions = get_positions()\n",
    "\n",
    "#     for index, position in positions.iterrows():\n",
    "#         for trailing_step in TRAILING_STOP_STEPS:\n",
    "#             trigger_tp_multiplier, new_sl_pnl_multiplier = trailing_step['trigger_tp_multiplier'], trailing_step['new_sl_pnl_multiplier']\n",
    "#             pnl_threshold = TP_PNL_MULTIPLIER * trigger_tp_multiplier * CAPITAL_PER_TRADE\n",
    "\n",
    "#             if position.profit >= pnl_threshold:\n",
    "#                 old_sl_price = position['sl']\n",
    "\n",
    "#                 if position.type == 0:\n",
    "#                     new_sl_price = get_price_at_pnl(pnl_multiplier=new_sl_pnl_multiplier, order_fee=fee, position_size_usd=position.volume, leverage=LEVERAGE, entry_price=position.price_open, type='long')\n",
    "#                     if new_sl_price > old_sl_price:\n",
    "#                         modify_sl_tp(position.ticket, new_sl_price, position.tp)\n",
    "#                 else:\n",
    "#                     new_sl_price = get_price_at_pnl(pnl_multiplier=new_sl_pnl_multiplier, order_fee=fee, position_size_usd=position.volume, leverage=LEVERAGE, entry_price=position.price_open, type='short')\n",
    "#                     if new_sl_price < old_sl_price:\n",
    "#                         modify_sl_tp(position.ticket, new_sl_price, position.tp)\n",
    "                \n",
    "#                 if new_sl_price:\n",
    "#                     capital_gain_at_current_unrealized_pnl = (position.profit / CAPITAL_PER_TRADE) * 100\n",
    "#                     old_sl_price_diff = (position.price_open / old_sl_price - 1) * 100\n",
    "#                     new_sl_price_diff = (position.price_open / position.sl - 1) * 100\n",
    "#                     pnl_at_old_sl = get_pnl_at_price(current_price=old_sl_price, entry_price=position.price_open, position_size_usd=size_usd, leverage=LEVERAGE, type='long' if position.type == 0 else 'short')\n",
    "#                     pnl_at_new_sl = get_pnl_at_price(current_price=position.sl, entry_price=position.price_open, position_size_usd=size_usd, leverage=LEVERAGE, type='long' if position.type == 0 else 'short')\n",
    "#                     capital_loss_at_old_sl = (pnl_at_old_sl / CAPITAL_PER_TRADE) * 100\n",
    "#                     capital_loss_at_new_sl= (pnl_at_new_sl / CAPITAL_PER_TRADE) * 100\n",
    "\n",
    "#                     print(f\"{position.symbol} - TRAILING STOP - UNREALIZED PNL: ${position.profit:.3f} ({capital_gain_at_current_unrealized_pnl:.3f}% CAP) - OLD SL: ${old_sl_price:.3f} ({old_sl_price_diff:.3f}%)({capital_loss_at_old_sl:.3f}% CAP) - NEW SL: ${position.sl:.3f} ({new_sl_price_diff:.3f}%)({capital_loss_at_new_sl:.3f}% CAP)\")\n",
    "#                     break  # Exit the loop after adjusting the stop loss\n",
    "        \n",
    "\n",
    "#     sleep(60)"
   ]
  }
 ],
 "metadata": {
  "kernelspec": {
   "display_name": "venv",
   "language": "python",
   "name": "python3"
  },
  "language_info": {
   "codemirror_mode": {
    "name": "ipython",
    "version": 3
   },
   "file_extension": ".py",
   "mimetype": "text/x-python",
   "name": "python",
   "nbconvert_exporter": "python",
   "pygments_lexer": "ipython3",
   "version": "3.8.10"
  }
 },
 "nbformat": 4,
 "nbformat_minor": 2
}
