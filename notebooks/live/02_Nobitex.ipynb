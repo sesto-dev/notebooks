{
 "cells": [
  {
   "cell_type": "code",
   "execution_count": null,
   "metadata": {},
   "outputs": [],
   "source": [
    "import sys\n",
    "sys.path.append(\"../..\")\n",
    "\n",
    "import requests\n",
    "from sesto.nobitex.client import NobitexClient\n",
    "from sesto.nobitex.endpoints import NobitexEndpoints"
   ]
  },
  {
   "cell_type": "code",
   "execution_count": null,
   "metadata": {},
   "outputs": [],
   "source": [
    "# Jupyter Notebook cell 1: Import necessary modules and set up the client\n",
    "api_key = \"70cba4e884eeb0ae7b380de302793d5cbf05b71a\"  # Replace with your actual API key\n",
    "client = NobitexClient(api_key)"
   ]
  },
  {
   "cell_type": "code",
   "execution_count": null,
   "metadata": {},
   "outputs": [],
   "source": [
    "def get_open_positions():\n",
    "    url = NobitexEndpoints.positions_list()\n",
    "    response = client._request(\"GET\", url)\n",
    "    \n",
    "    if 'positions' in response:\n",
    "        open_positions = [pos for pos in response['positions'] if pos['status'] == 'open']\n",
    "        return open_positions\n",
    "    else:\n",
    "        print(\"Error retrieving positions:\", response.get('message', 'Unknown error'))\n",
    "        return []\n"
   ]
  },
  {
   "cell_type": "code",
   "execution_count": null,
   "metadata": {},
   "outputs": [],
   "source": [
    "try:\n",
    "    open_positions = get_open_positions()\n",
    "\n",
    "    if open_positions:\n",
    "        print(\"Open Positions:\")\n",
    "        for position in open_positions:\n",
    "            print(f\"Symbol: {position['symbol']}\")\n",
    "            print(f\"Side: {position['side']}\")\n",
    "            print(f\"Amount: {position['amount']}\")\n",
    "            print(f\"Entry Price: {position['entryPrice']}\")\n",
    "            print(f\"Leverage: {position['leverage']}\")\n",
    "            print(f\"Unrealized PNL: {position['unrealizedPnl']}\")\n",
    "            print(\"---\")\n",
    "    else:\n",
    "        print(\"No open positions found.\")\n",
    "except Exception as e:\n",
    "    print(f\"An error occurred: {str(e)}\")\n",
    "    print(\"Response content:\", e.response.content if hasattr(e, 'response') else \"No response content\")"
   ]
  }
 ],
 "metadata": {
  "kernelspec": {
   "display_name": "venv",
   "language": "python",
   "name": "python3"
  },
  "language_info": {
   "codemirror_mode": {
    "name": "ipython",
    "version": 3
   },
   "file_extension": ".py",
   "mimetype": "text/x-python",
   "name": "python",
   "nbconvert_exporter": "python",
   "pygments_lexer": "ipython3",
   "version": "3.8.10"
  }
 },
 "nbformat": 4,
 "nbformat_minor": 2
}
