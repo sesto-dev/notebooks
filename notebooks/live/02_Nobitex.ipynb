{
 "cells": [
  {
   "cell_type": "code",
   "execution_count": 2,
   "metadata": {},
   "outputs": [],
   "source": [
    "import sys\n",
    "sys.path.append(\"../..\")\n",
    "\n",
    "import requests\n",
    "from sesto.nobitex.client import NobitexClient\n",
    "from sesto.nobitex.endpoints import NobitexEndpoints"
   ]
  },
  {
   "cell_type": "code",
   "execution_count": 3,
   "metadata": {},
   "outputs": [],
   "source": [
    "# Jupyter Notebook cell 1: Import necessary modules and set up the client\n",
    "api_key = \"70cba4e884eeb0ae7b380de302793d5cbf05b71a\"  # Replace with your actual API key\n",
    "client = NobitexClient(api_key)\n",
    "client"
   ]
  }
 ],
 "metadata": {
  "kernelspec": {
   "display_name": "venv",
   "language": "python",
   "name": "python3"
  },
  "language_info": {
   "codemirror_mode": {
    "name": "ipython",
    "version": 3
   },
   "file_extension": ".py",
   "mimetype": "text/x-python",
   "name": "python",
   "nbconvert_exporter": "python",
   "pygments_lexer": "ipython3",
   "version": "3.8.10"
  }
 },
 "nbformat": 4,
 "nbformat_minor": 2
}
