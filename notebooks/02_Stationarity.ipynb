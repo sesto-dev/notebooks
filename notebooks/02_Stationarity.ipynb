{
 "cells": [
  {
   "cell_type": "code",
   "execution_count": 1,
   "metadata": {},
   "outputs": [],
   "source": [
    "import numpy as np\n",
    "import pandas as pd\n",
    "import MetaTrader5 as mt5\n",
    "import statsmodels.api as sm\n",
    "from statsmodels.tsa.stattools import coint, adfuller\n",
    "\n",
    "import matplotlib.pyplot as plt\n",
    "from backtester.data_handler import DataHandler"
   ]
  },
  {
   "cell_type": "code",
   "execution_count": 2,
   "metadata": {},
   "outputs": [],
   "source": [
    "SYMBOLS = [\"WTI\", \"BRN\", \"USDJPY\", \"EURUSD\"]\n",
    "TIMEFRAME = mt5.TIMEFRAME_D1\n",
    "BARS = 500"
   ]
  },
  {
   "cell_type": "code",
   "execution_count": 3,
   "metadata": {},
   "outputs": [],
   "source": [
    "data_handler = DataHandler(SYMBOLS, TIMEFRAME, BARS)\n",
    "data = data_handler.fetch_data()"
   ]
  },
  {
   "cell_type": "code",
   "execution_count": 4,
   "metadata": {},
   "outputs": [],
   "source": [
    "def check_for_stationarity(X, cutoff=0.01):\n",
    "    # H_0 in adfuller is unit root exists (non-stationary)\n",
    "    # We must observe significant p-value to convince ourselves that the series is stationary\n",
    "    pvalue = adfuller(X)[1]\n",
    "    if pvalue < cutoff:\n",
    "        print('p-value = ' + str(pvalue) + ' The series ' + X.name +' is likely stationary.')\n",
    "        return True\n",
    "    else:\n",
    "        print('p-value = ' + str(pvalue) + ' The series ' + X.name +' is likely non-stationary.')\n",
    "        return False"
   ]
  },
  {
   "cell_type": "code",
   "execution_count": 5,
   "metadata": {},
   "outputs": [
    {
     "name": "stdout",
     "output_type": "stream",
     "text": [
      "p-value = 0.017363171838972565 The series close is likely non-stationary.\n",
      "p-value = 0.02355279134021089 The series close is likely non-stationary.\n",
      "p-value = 0.6654596824051007 The series close is likely non-stationary.\n",
      "p-value = 0.0010079142976947412 The series close is likely stationary.\n"
     ]
    }
   ],
   "source": [
    "for symbol, symbol_data in data.items():\n",
    "    check_for_stationarity(symbol_data['close'])"
   ]
  }
 ],
 "metadata": {
  "kernelspec": {
   "display_name": "Python 3",
   "language": "python",
   "name": "python3"
  },
  "language_info": {
   "codemirror_mode": {
    "name": "ipython",
    "version": 3
   },
   "file_extension": ".py",
   "mimetype": "text/x-python",
   "name": "python",
   "nbconvert_exporter": "python",
   "pygments_lexer": "ipython3",
   "version": "3.8.10"
  }
 },
 "nbformat": 4,
 "nbformat_minor": 2
}
