{
 "cells": [
  {
   "cell_type": "code",
   "execution_count": 1,
   "metadata": {},
   "outputs": [
    {
     "name": "stdout",
     "output_type": "stream",
     "text": [
      "MetaTrader 5 initialized successfully.\n"
     ]
    }
   ],
   "source": [
    "import numpy as np\n",
    "import pandas as pd\n",
    "import pandas_ta as ta\n",
    "import MetaTrader5 as mt5\n",
    "import statsmodels.api as sm\n",
    "from statsmodels.tsa.stattools import coint, adfuller\n",
    "\n",
    "import matplotlib.pyplot as plt\n",
    "import shared"
   ]
  },
  {
   "cell_type": "code",
   "execution_count": 2,
   "metadata": {},
   "outputs": [],
   "source": [
    "PAIRS = [\"WTI\", \"BRN\", \"USDJPY\", \"EURUSD\", \"GBPUSD\"]\n",
    "TIMEFRAME = mt5.TIMEFRAME_H1\n",
    "BARS = 500\n",
    "WINDOW_FACTOR = 50"
   ]
  },
  {
   "cell_type": "code",
   "execution_count": 3,
   "metadata": {},
   "outputs": [
    {
     "name": "stdout",
     "output_type": "stream",
     "text": [
      "Fetched data for pair: WTI\n",
      "Fetched data for pair: BRN\n",
      "Fetched data for pair: USDJPY\n",
      "Fetched data for pair: EURUSD\n",
      "Fetched data for pair: GBPUSD\n"
     ]
    }
   ],
   "source": [
    "shared.fill_data(PAIRS, TIMEFRAME, BARS)"
   ]
  },
  {
   "cell_type": "code",
   "execution_count": 7,
   "metadata": {},
   "outputs": [
    {
     "name": "stdout",
     "output_type": "stream",
     "text": [
      "[!] VWAP volume series is not datetime ordered. Results may not be as expected.\n",
      "[!] VWAP price series is not datetime ordered. Results may not be as expected.\n"
     ]
    },
    {
     "ename": "AttributeError",
     "evalue": "'RangeIndex' object has no attribute 'to_period'",
     "output_type": "error",
     "traceback": [
      "\u001b[1;31m---------------------------------------------------------------------------\u001b[0m",
      "\u001b[1;31mAttributeError\u001b[0m                            Traceback (most recent call last)",
      "Cell \u001b[1;32mIn[7], line 3\u001b[0m\n\u001b[0;32m      1\u001b[0m \u001b[38;5;28;01mfor\u001b[39;00m symbol, data \u001b[38;5;129;01min\u001b[39;00m shared\u001b[38;5;241m.\u001b[39mdata\u001b[38;5;241m.\u001b[39mitems():\n\u001b[0;32m      2\u001b[0m     \u001b[38;5;66;03m# print(data)\u001b[39;00m\n\u001b[1;32m----> 3\u001b[0m     vwap \u001b[38;5;241m=\u001b[39m \u001b[43mta\u001b[49m\u001b[38;5;241;43m.\u001b[39;49m\u001b[43mvwap\u001b[49m\u001b[43m(\u001b[49m\u001b[43mdata\u001b[49m\u001b[43m[\u001b[49m\u001b[38;5;124;43m'\u001b[39;49m\u001b[38;5;124;43mhigh\u001b[39;49m\u001b[38;5;124;43m'\u001b[39;49m\u001b[43m]\u001b[49m\u001b[43m,\u001b[49m\u001b[43m \u001b[49m\u001b[43mdata\u001b[49m\u001b[43m[\u001b[49m\u001b[38;5;124;43m'\u001b[39;49m\u001b[38;5;124;43mlow\u001b[39;49m\u001b[38;5;124;43m'\u001b[39;49m\u001b[43m]\u001b[49m\u001b[43m,\u001b[49m\u001b[43m \u001b[49m\u001b[43mdata\u001b[49m\u001b[43m[\u001b[49m\u001b[38;5;124;43m'\u001b[39;49m\u001b[38;5;124;43mclose\u001b[39;49m\u001b[38;5;124;43m'\u001b[39;49m\u001b[43m]\u001b[49m\u001b[43m,\u001b[49m\u001b[43m \u001b[49m\u001b[43mdata\u001b[49m\u001b[43m[\u001b[49m\u001b[38;5;124;43m'\u001b[39;49m\u001b[38;5;124;43mtick_volume\u001b[39;49m\u001b[38;5;124;43m'\u001b[39;49m\u001b[43m]\u001b[49m\u001b[43m)\u001b[49m\n\u001b[0;32m      4\u001b[0m     \u001b[38;5;28mprint\u001b[39m(vwap)\n",
      "File \u001b[1;32mc:\\Users\\Sesto\\.pyenv\\pyenv-win\\versions\\3.8.10\\lib\\site-packages\\pandas_ta\\overlap\\vwap.py:23\u001b[0m, in \u001b[0;36mvwap\u001b[1;34m(high, low, close, volume, anchor, offset, **kwargs)\u001b[0m\n\u001b[0;32m     21\u001b[0m \u001b[38;5;66;03m# Calculate Result\u001b[39;00m\n\u001b[0;32m     22\u001b[0m wp \u001b[38;5;241m=\u001b[39m typical_price \u001b[38;5;241m*\u001b[39m volume\n\u001b[1;32m---> 23\u001b[0m vwap  \u001b[38;5;241m=\u001b[39m wp\u001b[38;5;241m.\u001b[39mgroupby(\u001b[43mwp\u001b[49m\u001b[38;5;241;43m.\u001b[39;49m\u001b[43mindex\u001b[49m\u001b[38;5;241;43m.\u001b[39;49m\u001b[43mto_period\u001b[49m(anchor))\u001b[38;5;241m.\u001b[39mcumsum()\n\u001b[0;32m     24\u001b[0m vwap \u001b[38;5;241m/\u001b[39m\u001b[38;5;241m=\u001b[39m volume\u001b[38;5;241m.\u001b[39mgroupby(volume\u001b[38;5;241m.\u001b[39mindex\u001b[38;5;241m.\u001b[39mto_period(anchor))\u001b[38;5;241m.\u001b[39mcumsum()\n\u001b[0;32m     26\u001b[0m \u001b[38;5;66;03m# Offset\u001b[39;00m\n",
      "\u001b[1;31mAttributeError\u001b[0m: 'RangeIndex' object has no attribute 'to_period'"
     ]
    }
   ],
   "source": [
    "for symbol, data in shared.data.items():\n",
    "    # print(data)\n",
    "    vwap = ta.vwap(data['high'], data['low'], data['close'], data['tick_volume'])\n",
    "    print(vwap)"
   ]
  }
 ],
 "metadata": {
  "kernelspec": {
   "display_name": "Python 3",
   "language": "python",
   "name": "python3"
  },
  "language_info": {
   "codemirror_mode": {
    "name": "ipython",
    "version": 3
   },
   "file_extension": ".py",
   "mimetype": "text/x-python",
   "name": "python",
   "nbconvert_exporter": "python",
   "pygments_lexer": "ipython3",
   "version": "3.8.10"
  }
 },
 "nbformat": 4,
 "nbformat_minor": 2
}
