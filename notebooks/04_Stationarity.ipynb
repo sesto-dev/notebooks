{
 "cells": [
  {
   "cell_type": "code",
   "execution_count": 1,
   "metadata": {},
   "outputs": [
    {
     "name": "stdout",
     "output_type": "stream",
     "text": [
      "MetaTrader 5 initialized successfully.\n"
     ]
    }
   ],
   "source": [
    "import numpy as np\n",
    "import pandas as pd\n",
    "import MetaTrader5 as mt5\n",
    "import statsmodels.api as sm\n",
    "from statsmodels.tsa.stattools import coint, adfuller\n",
    "\n",
    "import sesto.metatrader.data as mtd\n",
    "from sesto.constants import CURRENCY_PAIRS\n",
    "from sesto.plot import plot_plotly"
   ]
  },
  {
   "cell_type": "code",
   "execution_count": 2,
   "metadata": {},
   "outputs": [],
   "source": [
    "PAIRS = CURRENCY_PAIRS\n",
    "TIMEFRAME = mt5.TIMEFRAME_M1\n",
    "BARS = 2500\n",
    "STATIONARITY_CUTOFF = 0.01"
   ]
  },
  {
   "cell_type": "code",
   "execution_count": 3,
   "metadata": {},
   "outputs": [
    {
     "name": "stdout",
     "output_type": "stream",
     "text": [
      "Fetched data for pair: USDJPY\n",
      "Fetched data for pair: EURUSD\n",
      "Fetched data for pair: GBPUSD\n",
      "Fetched data for pair: EURGBP\n",
      "Fetched data for pair: CADCHF\n",
      "Fetched data for pair: EURJPY\n",
      "Fetched data for pair: AUDUSD\n",
      "Fetched data for pair: USDCNH\n",
      "Fetched data for pair: EURCHF\n",
      "Fetched data for pair: NZDUSD\n"
     ]
    }
   ],
   "source": [
    "mtd.fill_data(PAIRS, TIMEFRAME, BARS)"
   ]
  },
  {
   "cell_type": "code",
   "execution_count": 4,
   "metadata": {},
   "outputs": [],
   "source": [
    "def check_for_stationarity(X, cutoff=STATIONARITY_CUTOFF):\n",
    "    # H_0 in adfuller is unit root exists (non-stationary)\n",
    "    # We must observe significant p-value to convince ourselves that the series is stationary\n",
    "    p_value = adfuller(X)[1]\n",
    "    return p_value"
   ]
  },
  {
   "cell_type": "code",
   "execution_count": 6,
   "metadata": {},
   "outputs": [
    {
     "data": {
      "text/html": [
       "<div>\n",
       "<style scoped>\n",
       "    .dataframe tbody tr th:only-of-type {\n",
       "        vertical-align: middle;\n",
       "    }\n",
       "\n",
       "    .dataframe tbody tr th {\n",
       "        vertical-align: top;\n",
       "    }\n",
       "\n",
       "    .dataframe thead th {\n",
       "        text-align: right;\n",
       "    }\n",
       "</style>\n",
       "<table border=\"1\" class=\"dataframe\">\n",
       "  <thead>\n",
       "    <tr style=\"text-align: right;\">\n",
       "      <th></th>\n",
       "      <th>Symbol</th>\n",
       "      <th>Stationarity P-Value</th>\n",
       "      <th>Stationary</th>\n",
       "    </tr>\n",
       "  </thead>\n",
       "  <tbody>\n",
       "    <tr>\n",
       "      <th>0</th>\n",
       "      <td>USDJPY</td>\n",
       "      <td>0.365836</td>\n",
       "      <td>False</td>\n",
       "    </tr>\n",
       "    <tr>\n",
       "      <th>1</th>\n",
       "      <td>EURUSD</td>\n",
       "      <td>0.071073</td>\n",
       "      <td>False</td>\n",
       "    </tr>\n",
       "    <tr>\n",
       "      <th>2</th>\n",
       "      <td>GBPUSD</td>\n",
       "      <td>0.882591</td>\n",
       "      <td>False</td>\n",
       "    </tr>\n",
       "    <tr>\n",
       "      <th>3</th>\n",
       "      <td>EURGBP</td>\n",
       "      <td>0.851301</td>\n",
       "      <td>False</td>\n",
       "    </tr>\n",
       "    <tr>\n",
       "      <th>4</th>\n",
       "      <td>CADCHF</td>\n",
       "      <td>0.257367</td>\n",
       "      <td>False</td>\n",
       "    </tr>\n",
       "    <tr>\n",
       "      <th>5</th>\n",
       "      <td>EURJPY</td>\n",
       "      <td>0.328481</td>\n",
       "      <td>False</td>\n",
       "    </tr>\n",
       "    <tr>\n",
       "      <th>6</th>\n",
       "      <td>AUDUSD</td>\n",
       "      <td>0.724473</td>\n",
       "      <td>False</td>\n",
       "    </tr>\n",
       "    <tr>\n",
       "      <th>7</th>\n",
       "      <td>USDCNH</td>\n",
       "      <td>0.964360</td>\n",
       "      <td>False</td>\n",
       "    </tr>\n",
       "    <tr>\n",
       "      <th>8</th>\n",
       "      <td>EURCHF</td>\n",
       "      <td>0.286476</td>\n",
       "      <td>False</td>\n",
       "    </tr>\n",
       "    <tr>\n",
       "      <th>9</th>\n",
       "      <td>NZDUSD</td>\n",
       "      <td>0.905954</td>\n",
       "      <td>False</td>\n",
       "    </tr>\n",
       "  </tbody>\n",
       "</table>\n",
       "</div>"
      ],
      "text/plain": [
       "   Symbol  Stationarity P-Value  Stationary\n",
       "0  USDJPY              0.365836       False\n",
       "1  EURUSD              0.071073       False\n",
       "2  GBPUSD              0.882591       False\n",
       "3  EURGBP              0.851301       False\n",
       "4  CADCHF              0.257367       False\n",
       "5  EURJPY              0.328481       False\n",
       "6  AUDUSD              0.724473       False\n",
       "7  USDCNH              0.964360       False\n",
       "8  EURCHF              0.286476       False\n",
       "9  NZDUSD              0.905954       False"
      ]
     },
     "execution_count": 6,
     "metadata": {},
     "output_type": "execute_result"
    }
   ],
   "source": [
    "stationarity_results = []\n",
    "\n",
    "for symbol, df in mtd.data.items():\n",
    "    p_value = check_for_stationarity(df['close'])\n",
    "    stationarity_results.append((symbol, p_value, p_value < STATIONARITY_CUTOFF))\n",
    "\n",
    "stationarity_df = pd.DataFrame(stationarity_results, columns=['Symbol', 'Stationarity P-Value', 'Stationary'])\n",
    "stationarity_df"
   ]
  }
 ],
 "metadata": {
  "kernelspec": {
   "display_name": "Python 3",
   "language": "python",
   "name": "python3"
  },
  "language_info": {
   "codemirror_mode": {
    "name": "ipython",
    "version": 3
   },
   "file_extension": ".py",
   "mimetype": "text/x-python",
   "name": "python",
   "nbconvert_exporter": "python",
   "pygments_lexer": "ipython3",
   "version": "3.8.10"
  }
 },
 "nbformat": 4,
 "nbformat_minor": 2
}
