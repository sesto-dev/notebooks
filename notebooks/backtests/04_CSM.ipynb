{
 "cells": [
  {
   "cell_type": "code",
   "execution_count": null,
   "metadata": {},
   "outputs": [],
   "source": [
    "import sys\n",
    "sys.path.append(\"..\")\n",
    "\n",
    "from typing import List, Dict, Callable\n",
    "from datetime import datetime, timedelta\n",
    "\n",
    "import numpy as np\n",
    "import pandas as pd\n",
    "import MetaTrader5 as mt5\n",
    "\n",
    "from sesto.constants import CURRENCIES\n",
    "import sesto.metatrader.data as mtd\n",
    "from sesto.plot import plot_tradingview, plot_plotly\n",
    "from sesto.indicators import SMA, EMA, RSI, ROC\n",
    "from sesto.backtester import Backtester, Trade"
   ]
  },
  {
   "cell_type": "code",
   "execution_count": null,
   "metadata": {},
   "outputs": [],
   "source": [
    "# GENERATE ALL PAIR COMBINATIONS\n",
    "from itertools import permutations\n",
    "\n",
    "print(f\"Number of currencies: {len(CURRENCIES)}\")\n",
    "# Generate all unique pairs of currency symbols\n",
    "pairs = list(permutations(CURRENCIES, 2))\n",
    "print(f\"Number of pairs: {len(pairs)}\")"
   ]
  },
  {
   "cell_type": "code",
   "execution_count": null,
   "metadata": {},
   "outputs": [],
   "source": [
    "# concatenate pairs into a single list\n",
    "PAIRS = [pair[0] + pair[1] for pair in pairs]"
   ]
  },
  {
   "cell_type": "code",
   "execution_count": null,
   "metadata": {},
   "outputs": [],
   "source": [
    "TIMEFRAME = mt5.TIMEFRAME_M15\n",
    "BARS = 1500\n",
    "MA_PERIODS = [7, 14, 21]\n",
    "CSM_PERIOD = 21\n",
    "CSM_TOP_THRESHOLD = 85\n",
    "CSM_LOW_THRESHOLD = 15"
   ]
  },
  {
   "cell_type": "code",
   "execution_count": null,
   "metadata": {},
   "outputs": [],
   "source": [
    "INITIAL_CAPITAL = 10000\n",
    "TRANSACTION_COST = 0.0001\n",
    "SLIPPAGE = 0.0001\n",
    "TRADE_SL_MULTIPLIER = 0.03\n",
    "RR_MULTIPLIER = 3"
   ]
  },
  {
   "cell_type": "code",
   "execution_count": null,
   "metadata": {},
   "outputs": [],
   "source": [
    "mtd.fill_data(PAIRS, TIMEFRAME, BARS)"
   ]
  },
  {
   "cell_type": "code",
   "execution_count": null,
   "metadata": {},
   "outputs": [],
   "source": [
    "pairs_to_delete = [pair for pair, data in mtd.data.items() if data is None or len(data) == 0]\n",
    "for pair in pairs_to_delete:\n",
    "    del mtd.data[pair]\n",
    "\n",
    "# Get the length of valid pair keys in mtd.data that have data\n",
    "valid_pairs = sum(1 for pair, data in mtd.data.items() if data is not None and len(data) > 0)\n",
    "print(f\"Number of valid pairs with data: {valid_pairs}\")"
   ]
  },
  {
   "cell_type": "code",
   "execution_count": null,
   "metadata": {},
   "outputs": [],
   "source": [
    "for symbol, df in mtd.data.items():\n",
    "    for period in MA_PERIODS:\n",
    "        SMA(df, period)\n",
    "        EMA(df, period)\n",
    "        ROC(df, period)\n",
    "        RSI(df, period)\n",
    "    \n",
    "    df['psm'] = df[f'rsi-{CSM_PERIOD}'] + df[f'roc-{CSM_PERIOD}'] / 2\n",
    "    # Smooth PSM\n",
    "    df['psm'] = df['psm'].rolling(CSM_PERIOD).mean()\n"
   ]
  },
  {
   "cell_type": "code",
   "execution_count": null,
   "metadata": {},
   "outputs": [],
   "source": [
    "csm_data = {}\n",
    "\n",
    "for currency in CURRENCIES:\n",
    "    # Initialize a list to hold DataFrames of PSM values for the current currency\n",
    "    psm_dfs = []\n",
    "    \n",
    "    # Iterate over all pair data\n",
    "    for pair, df in mtd.data.items():\n",
    "        if df is None or df.empty:\n",
    "            continue\n",
    "        \n",
    "        base_currency = pair[:3]\n",
    "        quote_currency = pair[3:]\n",
    "        \n",
    "        # Determine if the current currency is the base or quote in the pair\n",
    "        if currency == base_currency:\n",
    "            # Use PSM as is for base currency\n",
    "            psm_series = df[['time', 'psm']].copy()\n",
    "        elif currency == quote_currency:\n",
    "            # Invert PSM for quote currency\n",
    "            psm_series = df[['time', 'psm']].copy()\n",
    "            psm_series['psm'] = -psm_series['psm']\n",
    "        else:\n",
    "            # Current currency not involved in this pair\n",
    "            continue\n",
    "        \n",
    "        # Rename the 'psm' column to the pair name\n",
    "        psm_series.rename(columns={'psm': pair}, inplace=True)\n",
    "        \n",
    "        # Append to the list of PSM DataFrames\n",
    "        psm_dfs.append(psm_series)\n",
    "    \n",
    "    if not psm_dfs:\n",
    "        print(f\"No pairs found for currency: {currency}\")\n",
    "        continue\n",
    "    \n",
    "    # Merge all PSM DataFrames on 'time' using outer join to preserve all timestamps\n",
    "    csm_df = psm_dfs[0]\n",
    "    for psm_df in psm_dfs[1:]:\n",
    "        csm_df = pd.merge(csm_df, psm_df, on='time', how='outer')\n",
    "    \n",
    "    # Sort by time to maintain chronological order\n",
    "    csm_df.sort_values('time', inplace=True)\n",
    "    \n",
    "    # Reset index after sorting\n",
    "    csm_df.reset_index(drop=True, inplace=True)\n",
    "    \n",
    "    # Handle missing PSM values by excluding them from the mean calculation\n",
    "    # (NaNs are automatically ignored by pandas' mean function with skipna=True)\n",
    "    \n",
    "    # Calculate the mean PSM value across all relevant pairs for each candle\n",
    "    csm_df['csm'] = csm_df.drop('time', axis=1).mean(axis=1)\n",
    "\n",
    "    min_csm = csm_df['csm'].min()\n",
    "    max_csm = csm_df['csm'].max()\n",
    "    csm_df['csm'] = 100 * (csm_df['csm'] - min_csm) / (max_csm - min_csm)\n",
    "    \n",
    "    # Store the CSM DataFrame in the dictionary\n",
    "    csm_data[currency] = csm_df"
   ]
  },
  {
   "cell_type": "code",
   "execution_count": null,
   "metadata": {},
   "outputs": [],
   "source": [
    "currencies_to_plot = ['GBP', 'JPY']  # You can modify this list as needed\n",
    "\n",
    "# Create a new DataFrame to hold CSM data for all specified currencies\n",
    "combined_csm_df = pd.DataFrame()\n",
    "\n",
    "for currency in currencies_to_plot:\n",
    "    if currency in csm_data:\n",
    "        # Add the CSM data for this currency to the combined DataFrame\n",
    "        combined_csm_df[currency] = csm_data[currency]['csm']\n",
    "        \n",
    "        # If we haven't set the 'time' column yet, use this currency's time data\n",
    "        if 'time' not in combined_csm_df.columns:\n",
    "            combined_csm_df['time'] = csm_data[currency]['time']\n",
    "\n",
    "# Sort the combined DataFrame by time\n",
    "combined_csm_df.sort_values('time', inplace=True)\n",
    "\n",
    "# Plot the combined CSM data\n",
    "plot_plotly(combined_csm_df, 'Combined CSM', currencies_to_plot)"
   ]
  },
  {
   "cell_type": "code",
   "execution_count": null,
   "metadata": {},
   "outputs": [],
   "source": [
    "\n",
    "def get_csm(symbol: str, time: datetime, row: pd.Series):\n",
    "    base_currency = symbol[:3]\n",
    "    quote_currency = symbol[3:]\n",
    "\n",
    "    base_csm_df = csm_data[base_currency]\n",
    "    quote_csm_df = csm_data[quote_currency]\n",
    "\n",
    "    base_csm_row_at_time = base_csm_df.loc[base_csm_df['time'] == row['time']].iloc[0]\n",
    "    quote_csm_row_at_time = quote_csm_df.loc[quote_csm_df['time'] == row['time']].iloc[0]\n",
    "\n",
    "    base_csm = base_csm_row_at_time['csm']\n",
    "    quote_csm = quote_csm_row_at_time['csm']\n",
    "\n",
    "    return base_csm, quote_csm\n",
    "\n",
    "class MyStrategy(Backtester):\n",
    "    def entry_condition(self, symbol: str, time: datetime, row: pd.Series, open_trades: List[Trade], all_trades: List[Trade]) -> bool:\n",
    "        base_csm, quote_csm = get_csm(symbol, time, row)\n",
    "        \n",
    "        symbol_open_trades = [trade for trade in open_trades if trade.symbol == symbol]\n",
    "\n",
    "        if len(symbol_open_trades) == 0:\n",
    "            if base_csm > CSM_TOP_THRESHOLD and quote_csm < CSM_LOW_THRESHOLD:\n",
    "                return {\n",
    "                    'entry_price': row['close'],\n",
    "                    'position_type': 'short',\n",
    "                    'volume': 0.01,\n",
    "                    'tp': row['close'] * (1 - (TRADE_SL_MULTIPLIER * RR_MULTIPLIER)),\n",
    "                    'sl': row['close'] * (1 + TRADE_SL_MULTIPLIER)\n",
    "                }\n",
    "\n",
    "            if base_csm < CSM_LOW_THRESHOLD and quote_csm > CSM_TOP_THRESHOLD:\n",
    "                return {\n",
    "                    'entry_price': row['close'],\n",
    "                    'position_type': 'long',\n",
    "                    'volume': 0.01,\n",
    "                    'tp': row['close'] * (1 + (TRADE_SL_MULTIPLIER * RR_MULTIPLIER)),\n",
    "                    'sl': row['close'] * (1 - TRADE_SL_MULTIPLIER)\n",
    "                }\n",
    "\n",
    "        return None\n",
    "    def exit_condition(self, trade: Trade, time: datetime, row: pd.Series, open_trades: List[Trade], closed_trades: List[Trade]) -> bool:\n",
    "        # base_csm, quote_csm = get_csm(symbol, time= row['time'], row=row)\n",
    "\n",
    "        # symbol_open_trades = [trade for trade in open_trades if trade.symbol == symbol]\n",
    "\n",
    "        # if trade.position_type == 'short':\n",
    "        #     if base_csm < CSM_LOW_THRESHOLD or quote_csm > CSM_TOP_THRESHOLD:\n",
    "        #         return True\n",
    "        # if trade.position_type == 'long':\n",
    "        #     if base_csm > CSM_TOP_THRESHOLD or quote_csm < CSM_LOW_THRESHOLD:\n",
    "        #         return True\n",
    "\n",
    "        return False\n",
    "\n",
    "    def trailing_stop(self, trade: Trade, time: datetime, row: pd.Series, open_trades: List[Trade], closed_trades: List[Trade]):\n",
    "        # Implement your trailing stop logic here\n",
    "        pass"
   ]
  },
  {
   "cell_type": "code",
   "execution_count": null,
   "metadata": {},
   "outputs": [],
   "source": [
    "backtest = MyStrategy(\n",
    "    mtd.data, \n",
    "    initial_capital=INITIAL_CAPITAL, \n",
    "    transaction_cost=TRANSACTION_COST, \n",
    "    slippage=SLIPPAGE,\n",
    "    leverage=500.0  # Set your brokerage's leverage\n",
    ")\n",
    "backtest.run()"
   ]
  },
  {
   "cell_type": "code",
   "execution_count": null,
   "metadata": {},
   "outputs": [],
   "source": [
    "trade_log = pd.DataFrame(backtest.trade_log)\n",
    "trade_log"
   ]
  },
  {
   "cell_type": "code",
   "execution_count": null,
   "metadata": {},
   "outputs": [],
   "source": [
    "performance_report = backtest.generate_report()\n",
    "performance_report"
   ]
  }
 ],
 "metadata": {
  "kernelspec": {
   "display_name": "Python 3",
   "language": "python",
   "name": "python3"
  },
  "language_info": {
   "codemirror_mode": {
    "name": "ipython",
    "version": 3
   },
   "file_extension": ".py",
   "mimetype": "text/x-python",
   "name": "python",
   "nbconvert_exporter": "python",
   "pygments_lexer": "ipython3",
   "version": "3.8.10"
  }
 },
 "nbformat": 4,
 "nbformat_minor": 2
}
